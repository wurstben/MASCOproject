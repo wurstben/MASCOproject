{
 "cells": [
  {
   "cell_type": "markdown",
   "metadata": {},
   "source": [
    "# Data Cleaning\n",
    "## Build 1.0"
   ]
  },
  {
   "cell_type": "markdown",
   "metadata": {},
   "source": [
    "### Build 1.0 Notes: \n",
    "This notebook is the first version of all code related to data pre-processing and other cleaning related opperations. This notebook contains early plans for step-wise cleaning to be completed at later points. This version only contains the (planned) contents of the notebook."
   ]
  },
  {
   "cell_type": "markdown",
   "metadata": {},
   "source": [
    "   "
   ]
  },
  {
   "cell_type": "markdown",
   "metadata": {},
   "source": [
    "### Contents:\n",
    "Step 1: load data\n",
    "\n",
    "Step 2: set up data structures\n",
    "\n",
    "Step 3: begin cleaning - check for missing values\n",
    "\n",
    "Step ...: more cleaning processes depending on issues discovered later\n",
    "\n",
    "Step n: save cleaned data to be used by analytics team"
   ]
  }
 ],
 "metadata": {
  "kernelspec": {
   "display_name": "Python 3",
   "language": "python",
   "name": "python3"
  },
  "language_info": {
   "codemirror_mode": {
    "name": "ipython",
    "version": 3
   },
   "file_extension": ".py",
   "mimetype": "text/x-python",
   "name": "python",
   "nbconvert_exporter": "python",
   "pygments_lexer": "ipython3",
   "version": "3.7.4"
  }
 },
 "nbformat": 4,
 "nbformat_minor": 4
}
